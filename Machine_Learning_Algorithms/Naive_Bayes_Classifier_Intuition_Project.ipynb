{
  "nbformat": 4,
  "nbformat_minor": 0,
  "metadata": {
    "colab": {
      "provenance": []
    },
    "kernelspec": {
      "name": "python3",
      "display_name": "Python 3"
    },
    "language_info": {
      "name": "python"
    }
  },
  "cells": [
    {
      "cell_type": "markdown",
      "source": [
        "Problem Statement: Random Binary Classification using Naive Bayes Algorithm"
      ],
      "metadata": {
        "id": "mW-aZkeAUi86"
      }
    },
    {
      "cell_type": "markdown",
      "source": [
        "The Naive Bayes Classifier is based on the Bayes Theorem of Probability, which is\n",
        "\n",
        "      P(A|B) = (P(B|A) * P(A))/P(B)\n",
        "\n",
        "We can translate this to a classification problem, where A is the dependent Y categories given the independent X features. Hence:\n",
        "\n",
        "      P(Y|X) = (P(X|Y) * P(Y))/P(X) [X is our feature vector, Y is our class labels]\n",
        "This is considered Naive because** we must assume that features are mutually independent** and not correlated in some way.\n",
        "\n",
        "This formula can be re-written as\n",
        "\n",
        "      P(Y|X) = (P(X1|Y) * *P(X2|Y)* ... * P(Xn|Y) * P(Y))/P(X)\n",
        "\n",
        "We will select the class with the highest P(y) [Hence logarithmic manipulation is needed in the formula]\n",
        "\n",
        "We can use the following formula to find y:\n",
        "\n",
        "\n",
        "    y = argmax_y[log(P(X1|Y)) + log(P(X2|Y))... + log(P(Xn|Y)) + log(P(Y))]\n",
        "\n",
        "\n",
        "[argmax returns the index of the maximum value of function.]\n",
        "\n",
        "This is the **Posterior Probability** of a class\n",
        "\n",
        "How to find P(y) and P(Xn|Y)?\n",
        "\n",
        "**Prior Probability**: P(Y) -> Frequency of Each Class\n",
        "**Class Conditional Probability**: P(Xn|Y) -> Model with Gaussian Distribution\n",
        "\n",
        "Formula for Class Conditional Probability:\n",
        "\n",
        "      P(Xi|Y) = 1/(√(2πσ_y^2)) * exp(-(x_i - μ_y)^2/(2σ_y^2)) [y represents the specific class in question]\n",
        "\n",
        "\n",
        "\n",
        "Now, the steps for building Naive Bayes Classifier is:\n",
        "1) Find mean, standard deviation, and frequency for each class\n",
        "2) Find posterior Probability of Each Class with Argmax Formula that uses Gaussian Formula for each P(Xn|Y).\n",
        "3) Choose class with highest posterior probability.\n",
        "\n"
      ],
      "metadata": {
        "id": "iIYOt31HN1Zo"
      }
    },
    {
      "cell_type": "code",
      "source": [
        "import numpy as np\n",
        "\n",
        "class NaiveBayes:\n",
        "\n",
        "    def fit(self, X, y):\n",
        "        n_samples, n_features = X.shape\n",
        "        self._classes = np.unique(y)\n",
        "        n_classes = len(self._classes)\n",
        "\n",
        "        # calculate mean, var, and prior for each class\n",
        "        self._mean = np.zeros((n_classes, n_features), dtype=np.float64)\n",
        "        self._var = np.zeros((n_classes, n_features), dtype=np.float64)\n",
        "        self._priors = np.zeros(n_classes, dtype=np.float64)\n",
        "\n",
        "        for idx, c in enumerate(self._classes):\n",
        "            X_c = X[y == c]\n",
        "            self._mean[idx, :] = X_c.mean(axis=0)\n",
        "            self._var[idx, :] = X_c.var(axis=0)\n",
        "            self._priors[idx] = X_c.shape[0] / float(n_samples) #This is for finding the mean, STD for Gaussian Formula, and Frequency, to overall use in posterior formula.\n",
        "    def predict(self, X):\n",
        "      y_pred = [self._predict(x) for x in X]\n",
        "      return np.array(y_pred) #This function just returns the y_predictions, nothing hard here\n",
        "\n",
        "    def _predict(self, x):\n",
        "        posteriors = []\n",
        "\n",
        "        # calculate posterior probability for each class in order to make prediction, using formula.\n",
        "        for idx, c in enumerate(self._classes):\n",
        "            prior = np.log(self._priors[idx])\n",
        "            posterior = np.sum(np.log(self._pdf(idx, x))) #pdf is probability density function, or the Gaussian formulas\n",
        "            posterior = posterior + prior\n",
        "            posteriors.append(posterior)\n",
        "\n",
        "        # return class with the highest posterior\n",
        "        return self._classes[np.argmax(posteriors)] #Using argmax from the formula, returns the classes\n",
        "\n",
        "    def _pdf(self, class_idx, x): #Gaussian Formula Function\n",
        "        mean = self._mean[class_idx]\n",
        "        var = self._var[class_idx]\n",
        "        numerator = np.exp(-((x - mean) ** 2) / (2 * var))\n",
        "        denominator = np.sqrt(2 * np.pi * var)\n",
        "        return numerator / denominator\n",
        "\n"
      ],
      "metadata": {
        "id": "Uer_MZW2R7Rk"
      },
      "execution_count": null,
      "outputs": []
    },
    {
      "cell_type": "code",
      "source": [
        "# Imports\n",
        "from sklearn.model_selection import train_test_split\n",
        "from sklearn import datasets\n",
        "\n",
        "def accuracy(y_true, y_pred):\n",
        "    accuracy = np.sum(y_true == y_pred) / len(y_true)\n",
        "    return accuracy\n",
        "\n",
        "X, y = datasets.make_classification(\n",
        "    n_samples=1000, n_features=10, n_classes=2, random_state=123 #sklearn method to generate random binary classification dataset\n",
        ")\n",
        "X_train, X_test, y_train, y_test = train_test_split(\n",
        "    X, y, test_size=0.2, random_state=123\n",
        ")\n",
        "\n",
        "nb = NaiveBayes()\n",
        "nb.fit(X_train, y_train)\n",
        "predictions = nb.predict(X_test)\n",
        "\n",
        "print(\"Naive Bayes classification accuracy\", accuracy(y_test, predictions))"
      ],
      "metadata": {
        "colab": {
          "base_uri": "https://localhost:8080/"
        },
        "id": "VaqypMTEN8Ob",
        "outputId": "b5146789-a931-43cc-99d9-184415fe7af5"
      },
      "execution_count": null,
      "outputs": [
        {
          "output_type": "stream",
          "name": "stdout",
          "text": [
            "Naive Bayes classification accuracy 0.965\n"
          ]
        }
      ]
    }
  ]
}